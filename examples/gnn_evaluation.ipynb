{
 "cells": [
  {
   "cell_type": "code",
   "execution_count": null,
   "metadata": {
    "vscode": {
     "languageId": "plaintext"
    }
   },
   "outputs": [],
   "source": [
    "import torch.nn.functional as F\n",
    "\n",
    "def get_class_probabilities(model, data):\n",
    "    # Прогон модели\n",
    "    model.eval()  # Убедитесь, что модель в режиме оценки\n",
    "    with torch.no_grad():\n",
    "        output = model(data)  # Выход модели (логиты)\n",
    "\n",
    "    # Применяем softmax к выходу модели, чтобы получить вероятности для всех классов\n",
    "    probabilities = F.softmax(output, dim=1)  # softmax по оси классов (второй размер)\n",
    "\n",
    "    return [{CLASSES[i]:float(p) for i,p in enumerate(probability)} for probability in probabilities]\n",
    "\n",
    "get_class_probabilities(model, data)"
   ]
  }
 ],
 "metadata": {
  "language_info": {
   "name": "python"
  }
 },
 "nbformat": 4,
 "nbformat_minor": 2
}
